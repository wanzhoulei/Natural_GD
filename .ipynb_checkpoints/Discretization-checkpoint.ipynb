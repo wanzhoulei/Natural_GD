{
 "cells": [
  {
   "cell_type": "markdown",
   "metadata": {},
   "source": [
    "We have: $\\nabla m_i + d_{\\theta_i}\\rho(x, \\theta) = 0\n",
    "$ where\n",
    "$$m_i(x, \\theta) = \\rho(x, \\theta)v_i(x, \\theta)$$\n",
    "where $\\rho$ is scalar and $v_i \\in R^{d}$\n",
    "for simplicity, denote $v_i = [v_1, v_2, ..., v_d]^T$, in which each element is scalar.\n",
    "$$m_i = [\\rho v_1, \\rho v_2, ..., \\rho v_d]^T$$\n",
    "Now we have:\n",
    "$$(\\rho v_1)_{x_1} + (\\rho v_2)_{x_2} + ... + (\\rho v_d)_{x_d} + \\rho_{\\theta_i} = 0$$\n",
    "which is the conservative advective equation.\n",
    "With the Zero Neumann Condition, the density inside the area $\\Omega \\subset R^d$ is presearved.  "
   ]
  },
  {
   "cell_type": "markdown",
   "metadata": {},
   "source": [
    "Discretize the d dimenstional space into a uniform mesh grid of N consecutive hypercubes. Let $x_j$ denotes the center of the jth hypercube. Let $\\Delta x_{(jd)}$ denote a vector that points to the jdth direction and has a length of the length of the side of this jth hypercube in the jdth direction, where jd = 1, 2, 3..., d. \n",
    "\n"
   ]
  },
  {
   "cell_type": "markdown",
   "metadata": {},
   "source": [
    "Then we use the Donor-Cell Upwind Method for Advection:\n",
    "$$\\frac{\\rho^{(l+1)}(x_j) - \\rho^{(l)}(x_j)}{\\Delta \\theta_i} = -\\sum^{d}_{jd = 1}\n",
    "\\frac{F^{(l)}_{(jd)}(x_j + \\Delta x_{(jd)}/2) - F^{(l)}_{(jd)}(x_j - \\Delta x_{(jd)}/2)}{||\\Delta x_{(jd)}||}$$"
   ]
  },
  {
   "cell_type": "markdown",
   "metadata": {},
   "source": [
    "Where $F_{(jd)}^{(l)}$ is the flux function in the jdth direction when $\\theta_i = l$.\n",
    "Define:\n",
    "$$v_{(jd)}^+ = max\\{v_{jd}, 0\\}, v_{(jd)}^- = min\\{v_{jd}, 0\\}$$\n",
    "and:\n",
    "$$v_{(jd-\\frac{1}{2})}^+ = v_{(jd)}^+ (x_j - \\frac{\\Delta x_{(jd)}}{2})$$\n",
    "$$v_{(jd-\\frac{1}{2})}^- = v_{(jd)}^- (x_j - \\frac{\\Delta x_{(jd)}}{2})$$\n",
    "\n"
   ]
  },
  {
   "cell_type": "markdown",
   "metadata": {},
   "source": [
    "Define the flux function:\n",
    "$$F_{(jd)}^{(l)}(x_j - \\frac{\\Delta x_{(jd)}}{2}) = v^+_{(jd-\\frac{1}{2})}\\rho^{(l)}(x_j - \\Delta x_{(jd)}) + v^-_{(jd-\\frac{1}{2})}\\rho^{(l)}(x_j)$$\n",
    "$$F_{(jd)}^{(l)}(x_j + \\frac{\\Delta x_{(jd)}}{2}) = v^+_{(jd+\\frac{1}{2})}\\rho^{(l)}(x_j) + v^-_{(jd+\\frac{1}{2})}\\rho^{(l)}(x_j + \\Delta x_{(jd)})$$"
   ]
  },
  {
   "cell_type": "markdown",
   "metadata": {},
   "source": [
    "Therefore, the discretization becomes:\n",
    "$$\\rho_{(x_j)}^{(l+1)} = \\rho_{(x_j)}^{(l)} + \n",
    "\\Delta \\theta_i \\sum_{jd = 1}^d \\frac{[v^+_{(jd-\\frac{1}{2})}\\rho^{(l)}(x_j - \\Delta x_{(jd)}) + v^-_{(jd-\\frac{1}{2})}\\rho^{(l)}(x_j)] - [v^+_{(jd+\\frac{1}{2})}\\rho^{(l)}(x_j) + v^-_{(jd+\\frac{1}{2})}\\rho^{(l)}(x_j + \\Delta x_{(jd)})]}{||\\Delta x_{(jd)}||}$$"
   ]
  },
  {
   "cell_type": "markdown",
   "metadata": {},
   "source": [
    "Rewrite the discretization into a matrix-vector format:\n",
    "$$\\rho^{(l+1)} = (I + K_{mat})\\rho^{(l)}$$"
   ]
  },
  {
   "cell_type": "markdown",
   "metadata": {},
   "source": [
    "Question:\n",
    "1. How is the matrix $K_{mat}$ defined? I'm condused about how the individual matrix $K_{id}$ is defined.\n",
    "2. Why is u(x, y) and v(x, y) equal to 1? Does this mean that the matrix will be very simple?\n",
    "3. If u = v = 1, then $m_i = \\rho v_i = [\\rho, ..., \\rho]^T $? What I discretized is $\\rho$, how to get the discretization of $m_i$?\n",
    "4. What is the initial value of $\\rho$?\n",
    "5. How does the PDF become $AY = b$, where Y is the discretization of $m_i$? What is A and b?\n",
    "6. Concerning the python code, what's the input and output?\n",
    "\n",
    "The above are already solved.\n",
    "\n"
   ]
  },
  {
   "cell_type": "markdown",
   "metadata": {},
   "source": [
    "In 2D case:\n",
    "\n",
    "$m(x, y): R^2 \\rightarrow R^2$\n",
    "Let $m(x, y) = [M^{(1)}(x, y), M^{(2)}(x, y)]^T$. We want to discretize:\n",
    "$$\\frac{M^{(1)}(x, y)}{dx} + \\frac{M^{(2)}(x, y)}{dy} = b(x, y)$$\n",
    "let $\\Omega = [0, 1]^2$. We uniformly divide this area into $N^2$ squares with $(N+1)^2$ grid points. We discretize functions $M^{(1)}$ and $M^{(2)}$ on these $(N+1)^2$ grid points into $M^{(1)}_{i, j}, M^{(2)}_{i, j}$, where $i, j = 0, 1, 2, 3... N$. We have the following boundary conditions:\n",
    "$$M^{(1)}_{i, j} = 0  if    j=0, N, \\forall i$$\n",
    "$$M^{(2)}_{i, j} = 0  if    i=0, N, \\forall j$$\n",
    "let $\\Delta x = \\Delta x = h = \\frac{1}{N}$ we have the following discretization of the PDF:\n",
    "\n",
    "$$\\frac{M^{(1)}_{i, j+1} - M^{(1)}_{i, j-1}}{2\\Delta x}\n",
    "+ \\frac{M^{(2)}_{i+1, j} - M^{(1)}_{i-1, j}}{2\\Delta y} = b_{i,j} = b(jh, ih)$$\n",
    "\n",
    "When $i \\neq 0, N$ and $j \\neq 0, N$, that is to say the above equation only holds for interior grid points. This is because the divergence is not defined for exterior grid points.\n",
    "Transform the above equation into:\n",
    "\n",
    "$$M^{(1)}_{i, j+1} - M^{(1)}_{i, j-1} + M^{(2)}_{i+1, j} - M^{(1)}_{i-1, j} = 2hb(jh, ih)$$\n",
    "\n",
    "Write in matrix form:\n",
    "\n",
    "$$A_1M_1 + A_2M_2 = b$$\n",
    "\n",
    "Where $M_1, M_2 \\in R^{(N+1)^2}$ are the discretized function $M^{(1)}, M^{(2)}$ over the mesh grid. $A_1, A_2 \\in R^{(N+1)^2\\times (N+1)^2}$ are the matrix representation of process of the discretized divergence. $b \\in R^{(N+1)^2}$ is the discretized version of the function $2h\\times b(x, y)$"
   ]
  },
  {
   "cell_type": "code",
   "execution_count": 6,
   "metadata": {},
   "outputs": [],
   "source": [
    "import numpy as np\n",
    "from scipy.sparse import spdiags"
   ]
  },
  {
   "cell_type": "code",
   "execution_count": 7,
   "metadata": {},
   "outputs": [
    {
     "data": {
      "text/plain": [
       "[array([[0., 0., 0., ..., 0., 0., 0.],\n",
       "        [0., 0., 0., ..., 0., 0., 0.],\n",
       "        [0., 0., 0., ..., 0., 0., 0.],\n",
       "        ...,\n",
       "        [0., 0., 0., ..., 0., 0., 0.],\n",
       "        [0., 0., 0., ..., 0., 0., 0.],\n",
       "        [0., 0., 0., ..., 0., 0., 0.]]), array([[0., 0., 0., ..., 0., 0., 0.],\n",
       "        [0., 0., 0., ..., 0., 0., 0.],\n",
       "        [0., 0., 0., ..., 0., 0., 0.],\n",
       "        ...,\n",
       "        [0., 0., 0., ..., 0., 0., 0.],\n",
       "        [0., 0., 0., ..., 0., 0., 0.],\n",
       "        [0., 0., 0., ..., 0., 0., 0.]])]"
      ]
     },
     "execution_count": 7,
     "metadata": {},
     "output_type": "execute_result"
    }
   ],
   "source": [
    "##define a function that does 2-d discretization, it takes an int N\n",
    "##and returns two matrices that represent this discretization\n",
    "def discretize(N):\n",
    "    A1 = np.zeros(((N+1)**2, (N+1)**2));\n",
    "    A2 = np.zeros(((N+1)**2, (N+1)**2));\n",
    "    for i in range(N+1):\n",
    "        for j in range(N+1):\n",
    "            if (j!=0 and j!=N and i!=0 and i!=N):\n",
    "                A1[(N+1)*i+j,(N+1)*i+j-1] = -1;\n",
    "                A1[(N+1)*i+j,(N+1)*i+j+1] = +1;\n",
    "                \n",
    "    for i in range(N+1):\n",
    "        for j in range(N+1):\n",
    "            if (j!=0 and j!=N and i!=0 and i!=N):\n",
    "                A2[(N+1)*i+j, (N+1)*i+j-N-1] = -1;\n",
    "                A2[(N+1)*i+j, (N+1)*i+j+N+1] = 1;\n",
    "    return [A1, A2];\n",
    "\n",
    "def discretize2(N):\n",
    "    diagle = np.zeros((N+1, N+1));\n",
    "    diagle[1:-1, 1:-1] = -1;\n",
    "    diagle = diagle.flatten();\n",
    "    diagri = np.zeros((N+1, N+1));\n",
    "    diagri[1:-1, 1:-1] = 1;\n",
    "    diagri = diagri.flatten();\n",
    "    \n",
    "    diagle1 = np.concatenate((diagle, np.array([0])));\n",
    "    diagle1 = np.delete(diagle1, 0);\n",
    "    diagri1 = np.delete(diagri, -1);\n",
    "    diagri1 = np.concatenate((np.array([0]), diagri1));\n",
    "    data = np.array([diagle1, diagri1]);\n",
    "    diags = np.array([ -1, 1])\n",
    "    A1 = spdiags(data, diags, (N+1)**2, (N+1)**2).toarray();\n",
    "    \n",
    "    diagle2 = np.delete(diagle, np.arange(0, N+1));\n",
    "    diagle2 = np.concatenate((diagle2, np.zeros(N+1)));\n",
    "    diagri2 = np.delete(diagri, np.arange((N+1)**2 - N-1,(N+1)**2));\n",
    "    diagri2 = np.concatenate((np.zeros(N+1), diagri2));\n",
    "    data = np.array([ diagle2, diagri2]); \n",
    "    diags = np.array([ -N-1, N+1]);\n",
    "    A2 = spdiags(data, diags, (N+1)**2, (N+1)**2).toarray();    \n",
    "    return [A1, A2];\n",
    "\n",
    "discretize2(20)"
   ]
  },
  {
   "cell_type": "code",
   "execution_count": 155,
   "metadata": {},
   "outputs": [],
   "source": [
    "##define a function that discretize an input 2-d function\n",
    "##it takes a 2-d function as input, an int N as input\n",
    "##and output a sequnce of (N+1)^2 elements\n",
    "def test_2d(x, y):\n",
    "    return x**2 + y**2;\n",
    "\n",
    "def func_wrapper(func, k, N):\n",
    "    i = k//(N+1); j = k%(N+1);\n",
    "    return func(j/N, i/N);\n",
    "\n",
    "def discretize_func(func, N):\n",
    "    b = np.arange(0, (N+1)**2);\n",
    "    mask = np.zeros((N+1, N+1));\n",
    "    mask[1:-1, 1:-1] = 1;\n",
    "    mask = mask.flatten();\n",
    "    b = func_wrapper(func, b, N);\n",
    "    return b*mask*(2/N);\n"
   ]
  },
  {
   "cell_type": "code",
   "execution_count": null,
   "metadata": {},
   "outputs": [],
   "source": []
  }
 ],
 "metadata": {
  "kernelspec": {
   "display_name": "Python 3",
   "language": "python",
   "name": "python3"
  },
  "language_info": {
   "codemirror_mode": {
    "name": "ipython",
    "version": 3
   },
   "file_extension": ".py",
   "mimetype": "text/x-python",
   "name": "python",
   "nbconvert_exporter": "python",
   "pygments_lexer": "ipython3",
   "version": "3.7.4"
  }
 },
 "nbformat": 4,
 "nbformat_minor": 2
}

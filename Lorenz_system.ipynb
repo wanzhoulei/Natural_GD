{
 "cells": [
  {
   "cell_type": "code",
   "execution_count": 1,
   "metadata": {
    "id": "h1liXcm_0rea"
   },
   "outputs": [],
   "source": [
    "import numpy as np\n",
    "import matplotlib.pyplot as plt\n",
    "import matplotlib as mpl\n",
    "from mpl_toolkits.mplot3d import Axes3D\n",
    "import copy\n",
    "from scipy.sparse import lil_matrix, csr_matrix, identity,spdiags\n",
    "import scipy.sparse as sparse\n",
    "from scipy.sparse.linalg import LinearOperator,eigs,spsolve,norm\n",
    "from mpl_toolkits.axes_grid1 import make_axes_locatable\n",
    "import matplotlib.animation as animation\n",
    "from time import time\n",
    "from numpy.random import default_rng\n",
    "import math \n",
    "import matplotlib.pylab as pl\n",
    "from scipy import spatial\n",
    "import scipy\n",
    "from scipy.sparse import kron\n",
    "import scipy.linalg as linalg\n",
    "import ot\n",
    "import ot.plot\n",
    "\n",
    "def cosine(v1, v2):\n",
    "    result = 1 - spatial.distance.cosine(v1, v2);\n",
    "    return result;"
   ]
  },
  {
   "cell_type": "markdown",
   "metadata": {
    "id": "wIU8rMrW0ret"
   },
   "source": [
    "### Define  bounds and essential parameters"
   ]
  },
  {
   "cell_type": "code",
   "execution_count": 2,
   "metadata": {
    "id": "167q8v2F0rew"
   },
   "outputs": [],
   "source": [
    "#Define the G dictionary with all the variables\n",
    "#Define the G dictionary with all the variables\n",
    "G = {\n",
    "\"dt\": 0.0005, \n",
    "\"dx\": 6.35,\n",
    "\"sigma\": 10,\n",
    "\"b\": 8/3, #beta\n",
    "\"r\": 28, #rho\n",
    "\"alpha\":1e-4, #teleportation parameter\n",
    "\"diff\": 0 #diffusion parameter\n",
    "}\n",
    "\n",
    "bounds=[[-42.123456456,42.98456879],[-67.236546568,67.9595959898],[-20.22656564,80.232365]]\n",
    "\n",
    "Xi=[i for i in np.arange(bounds[0][0], bounds[0][1]+1,G[\"dx\"])]\n",
    "Yi=[i for i in np.arange(bounds[1][0], bounds[1][1]+1,G[\"dx\"])]\n",
    "Zi=[i for i in np.arange(bounds[2][0], bounds[2][1]+1,G[\"dx\"])]\n",
    "Xi = np.array(Xi)\n",
    "Yi = np.array(Yi)\n",
    "Zi = np.array(Zi)\n",
    "\n",
    "G['nx'] = len(Xi)\n",
    "G['ny']  = len(Yi)\n",
    "G['nz'] = len(Zi)\n",
    "G[\"deltas\"]=G[\"dx\"]*3.0*(np.random.rand(3, 64) - 0.5)\n",
    "\n",
    "xv, yv ,zv = np.meshgrid(Xi, Yi,Zi, sparse=False, indexing='ij')\n",
    "X = np.zeros((G['nx']*G['ny']*G['nz'],3))\n",
    "X[:,0] = xv.reshape(G['nx']*G['ny']*G['nz'], order='F')\n",
    "X[:,1] = yv.reshape(G['nx']*G['ny']*G['nz'], order='F')\n",
    "X[:,2] = zv.reshape(G['nx']*G['ny']*G['nz'], order='F')\n",
    "\n",
    "G[\"X\"] = X\n",
    "G[\"xv\"] = xv\n",
    "\n",
    "# # cost matrix (Duclidean distance) for Wasserstein metric (W2)\n",
    "# costM = ot.dist(X, X)\n",
    "# costM /= costM.max()"
   ]
  },
  {
   "cell_type": "code",
   "execution_count": 3,
   "metadata": {
    "id": "167q8v2F0rew"
   },
   "outputs": [],
   "source": [
    "N1=14; N2=22; N3=16;"
   ]
  },
  {
   "cell_type": "markdown",
   "metadata": {
    "id": "xRabBi-w0rfA"
   },
   "source": [
    "### Define the velocity function, i.e., RHS of the Lorenz system"
   ]
  },
  {
   "cell_type": "code",
   "execution_count": 4,
   "metadata": {
    "id": "6ATf-KrjmWQd"
   },
   "outputs": [],
   "source": [
    "def RHS_vec(y,G):\n",
    "  # y is a vector of n by 3 representing n points in R^3\n",
    "\n",
    "  n,_ = np.shape(y)\n",
    "  f1 = G[\"sigma\"] * (y[:,1]-y[:,0])\n",
    "  f2 = y[:,0]*(G[\"r\"] - y[:,2])-y[:,1]\n",
    "  f3 = y[:,0] * y[:,1] - G[\"b\"] * y[:,2] \n",
    "  f = np.concatenate((f1.reshape(n,1),f2.reshape(n,1),f3.reshape(n,1)),axis=1)\n",
    "  # f is n by 3\n",
    "  # each row of f represent the output of each row of y\n",
    "  # output all the velocity fields at those n points in one go.\n",
    "  return f"
   ]
  },
  {
   "cell_type": "markdown",
   "metadata": {
    "id": "r_i9wVUVPrCw"
   },
   "source": [
    "### Preparing solving the steady-state solution of the continuity equation"
   ]
  },
  {
   "cell_type": "code",
   "execution_count": 5,
   "metadata": {
    "id": "_4pftomLU8oe"
   },
   "outputs": [],
   "source": [
    "def diffmin(x):\n",
    "    return 1-np.heaviside(x,0)\n",
    "def diffmax(x):\n",
    "    return np.heaviside(x,0)\n",
    "def RHS_Matrix (G,bounds):\n",
    "    # the output of this function gives the matrix K_mat \n",
    "    # as described in the paper Section 3.2\n",
    "\n",
    "    #Build 'face' mesh - lower faces of cell i,j,k are faces i,j,k\n",
    "    #Note there is one additional face for the upper cell+1\n",
    "    Xf=[i-G[\"dx\"]/2 for i in np.arange(bounds[0][0], bounds[0][1]+ G[\"dx\"] + 1 ,G[\"dx\"])]\n",
    "    Yf=[i-G[\"dx\"]/2 for i in np.arange(bounds[1][0], bounds[1][1]+ G[\"dx\"] + 1 ,G[\"dx\"])]\n",
    "    Zf=[i-G[\"dx\"]/2 for i in np.arange(bounds[2][0], bounds[2][1]+ G[\"dx\"] + 1 ,G[\"dx\"])]\n",
    "\n",
    "    nx = G['nx']\n",
    "    ny = G['ny']\n",
    "    nz = G['nz']\n",
    "\n",
    "    #Build face velocity matrices\n",
    "    Uf = np.zeros((nx+1, ny+1,nz+1))\n",
    "    Vf = copy.deepcopy(Uf)\n",
    "    Wf = copy.deepcopy(Uf)\n",
    "\n",
    "    #Set v = 0 on edges of the boundary to enforce zero-flux boundary condition\n",
    "    \n",
    "        \n",
    "    y_big = np.zeros((nx-1,ny-1,nz-1,3))\n",
    "    # This is the equivalent of \"ndgrid\" in Matlab by specifing indexing='ij'  \n",
    "    y_big[:,:,:,0],y_big[:,:,:,1],y_big[:,:,:,2] = np.meshgrid(Xf[1:-1],Yf[1:-1],Zf[1:-1],indexing='ij')\n",
    "\n",
    "    #y_big is n by 3 where n= (nx-1)*(ny-1)*(nz-1) is # of points we evaluate the RHS\n",
    "    y_big = y_big.reshape((nx-1)*(ny-1)*(nz-1),3) \n",
    "\n",
    "    # evaluate the velocity at faces of the velocity cells\n",
    "    Uf[1:-1,1:-1,1:-1] = np.reshape(RHS_vec(y_big + np.ones(((nx-1)*(ny-1)*(nz-1),1))@np.array([0,G['dx']/2,G['dx']/2]).reshape(1,3) , G)[:,0], ((nx-1),(ny-1),(nz-1)))\n",
    "    Vf[1:-1,1:-1,1:-1] = np.reshape(RHS_vec(y_big + np.ones(((nx-1)*(ny-1)*(nz-1),1))@np.array([G['dx']/2,0,G['dx']/2]).reshape(1,3) , G)[:,1], ((nx-1),(ny-1),(nz-1)))\n",
    "    Wf[1:-1,1:-1,1:-1] = np.reshape(RHS_vec(y_big + np.ones(((nx-1)*(ny-1)*(nz-1),1))@np.array([G['dx']/2,G['dx']/2,0]).reshape(1,3),  G)[:,2], ((nx-1),(ny-1),(nz-1))) \n",
    "\n",
    "    #Build sparse time advance operator K_mat\n",
    "    #Each row (first index) is the equation for one [i,j,k] cell in terms of +-1 neighbors\n",
    "    N=nx*ny*nz\n",
    "    \n",
    "    # This is the equivalent of \"ndgrid\" in Matlab by specifing indexing='ij'  \n",
    "    XXf,YYf,ZZf = np.meshgrid(Xf,Yf,Zf,indexing='ij')\n",
    "   \n",
    "    # ufm=Uf[i-1,j-1,k-1]\n",
    "    ufm = Uf[:-1,:-1,:-1]\n",
    "    ufm = ufm.flatten(order='F')\n",
    "    YmX = YYf[:-1,:-1,:-1] - XXf[:-1,:-1,:-1] + G[\"dx\"]/2*np.ones((nx,ny,nz))\n",
    "    YmX[0,:,:] = 0 \n",
    "    YmX = YmX.flatten(order='F')\n",
    "\n",
    "    #  ufp=Uf[i,j-1,k-1]\n",
    "    ufp = Uf[1:,:-1,:-1]\n",
    "    ufp = ufp.flatten(order='F')\n",
    "    YmX2 = YYf[1:,:-1,:-1] - XXf[1:,:-1,:-1] + G[\"dx\"]/2*np.ones((nx,ny,nz))\n",
    "    YmX2[-1,:,:] = 0\n",
    "    YmX2 = YmX2.flatten(order='F')\n",
    "               \n",
    "    # vfm=Vf[i-1,j-1,k-1]\n",
    "    vfm = Vf[:-1,:-1,:-1]\n",
    "    vfm = vfm.flatten(order='F')\n",
    "    X = XXf[:-1,:-1,:-1] +  G[\"dx\"]/2*np.ones((nx,ny,nz))\n",
    "    X[:,0,:] = 0\n",
    "    X = X.flatten(order='F')\n",
    "\n",
    "    # vfp=Vf[i-1,j,k-1]\n",
    "    vfp = Vf[:-1,1:,:-1]\n",
    "    vfp = vfp.flatten(order='F')\n",
    "    X2 = XXf[:-1,1:,:-1] + G[\"dx\"]/2*np.ones((nx,ny,nz))\n",
    "    X2[:,-1,:] = 0\n",
    "    X2 = X2.flatten(order='F')  \n",
    "\n",
    "    # wfm=Wf[i-1,j-1,k-1]\n",
    "    wfm = Wf[:-1,:-1,:-1] \n",
    "    wfm = wfm.flatten(order='F')\n",
    "    mZ =  - ZZf[:-1,:-1,:-1] \n",
    "    mZ[:,:,0] = 0\n",
    "    mZ = mZ.flatten(order='F')\n",
    "\n",
    "    # wfp=Wf[i-1,j-1,k]\n",
    "    wfp = Wf[:-1,:-1,1:]\n",
    "    wfp = wfp.flatten(order='F')\n",
    "    mZ2 = - ZZf[:-1,:-1,1:]\n",
    "    mZ2[:,:,-1] = 0\n",
    "    mZ2 = mZ2.flatten(order='F')\n",
    "\n",
    "    # K_s is the derivative of T1\n",
    "    T1 = spdiags(np.array([-np.minimum(0,ufp), np.minimum(0,ufm)- np.maximum(0,ufp), np.maximum(0,ufm)]), np.array([-1,0,1]), N, N); \n",
    "    K_s = spdiags(np.array([-diffmin(ufp)*YmX2,    diffmin(ufm)*YmX - diffmax(ufp)*YmX2 , diffmax(ufm)*YmX]), np.array([-1,0,1]), N, N); \n",
    "\n",
    "    # K_r is the derivative of T2\n",
    "    T2 = spdiags(np.array([-np.minimum(0,vfp), np.minimum(0,vfm) - np.maximum(0,vfp), np.maximum(0,vfm)]), np.array([-nx, 0 ,nx]), N, N); \n",
    "    K_r = spdiags(np.array([- diffmin(vfp)*X2,         diffmin(vfm)*X - diffmax(vfp)*X2 ,      diffmax(vfm)*X]), np.array([-nx, 0 ,nx]), N, N); \n",
    "\n",
    "    # K_b is the derivative of T3\n",
    "    T3 = spdiags(np.array([-np.minimum(0,wfp), np.minimum(0,wfm) - np.maximum(0,wfp), np.maximum(0,wfm)]), np.array([-nx*ny, 0, nx*ny]), N, N); \n",
    "    K_b = spdiags(np.array([- diffmin(wfp)*mZ2,       diffmin(wfm)*mZ - diffmax(wfp)*mZ2 ,    diffmax(wfm)*mZ]), np.array([-nx*ny, 0, nx*ny]), N, N); \n",
    "\n",
    "    K_mat = (T1.transpose() + T2.transpose()+ T3.transpose())/G['dx']*G['dt']\n",
    "    K_s = K_s.transpose()/G['dx']*G['dt']\n",
    "    K_r = K_r.transpose()/G['dx']*G['dt']\n",
    "    K_b = K_b.transpose()/G['dx']*G['dt']\n",
    "    return  K_mat,K_s,K_r,K_b"
   ]
  },
  {
   "cell_type": "code",
   "execution_count": 6,
   "metadata": {
    "id": "oUP7EZXxTlW0"
   },
   "outputs": [],
   "source": [
    "K_mat, _, _, _ = RHS_Matrix(G,bounds)"
   ]
  },
  {
   "cell_type": "code",
   "execution_count": 7,
   "metadata": {
    "colab": {
     "base_uri": "https://localhost:8080/"
    },
    "id": "JiYxkDvfTo7F",
    "outputId": "28b3cfcd-e52b-4e61-c139-aee9c9d4f5b9"
   },
   "outputs": [
    {
     "data": {
      "text/plain": [
       "matrix([[ 0.00000000e+00,  0.00000000e+00,  0.00000000e+00, ...,\n",
       "         -3.46944695e-18, -1.04083409e-17,  0.00000000e+00]])"
      ]
     },
     "execution_count": 7,
     "metadata": {},
     "output_type": "execute_result"
    }
   ],
   "source": [
    "# Check that K_mat sum over all the columns gives 0\n",
    "# Therefore, given e = [1,1,...,1], e p^{l+1}=e p^{l} + e K_mat p^{l} = e p^{l}\n",
    "# mass conservation is ensured\n",
    "K_mat = K_mat.tocsr()\n",
    "K_mat.sum(axis = 0)"
   ]
  },
  {
   "cell_type": "code",
   "execution_count": 8,
   "metadata": {
    "id": "AC2ciQ4kvY9A"
   },
   "outputs": [],
   "source": [
    "def FWD(G,bounds):\n",
    "    # obtain the matrices\n",
    "        \n",
    "    K_mat, K_s, K_r, K_b = RHS_Matrix(G,bounds)\n",
    "    K_mat = K_mat.tocsr()\n",
    "    K_s = K_s.tocsr()\n",
    "    K_r = K_r.tocsr()\n",
    "    K_b = K_b.tocsr()\n",
    "\n",
    "    # scale to positive\n",
    "    mnV = abs(K_mat.min(axis=0).min())       \n",
    "    N = K_mat.shape[0]\n",
    "    speyeN = identity(N).tocsr()\n",
    "    M = speyeN +(1/(2*mnV))*K_mat\n",
    "    e = np.ones(N,)\n",
    "\n",
    "    ######### solves Mx = x  #########\n",
    "\n",
    "    # we \"regularize\" the matrix A by using the teleportation trick\n",
    "    # ---- M  ===> (1-a) M + a/N * e e^T, e = [1,1,1,...,1]^T\n",
    "    # Correspondingly, the derivative matrices change        \n",
    "    K_s = K_s * (1-G[\"alpha\"])*(1/(2*mnV))\n",
    "    K_r = K_r *(1-G[\"alpha\"])*(1/(2*mnV))\n",
    "    K_b = K_b * (1-G[\"alpha\"])*(1/(2*mnV))\n",
    "    ###########################################################################    \n",
    "    ##### Method #1  mv(x) = (1-a)Mx + a/N e e^T x = (1-a)Mx + a/N e sum(x)####\n",
    "    ###########################################################################\n",
    "    # mv = lambda x: (1-G[\"alpha\"])*(M*x)  + (G[\"alpha\"]/N)*sum(x)*e;\n",
    "\n",
    "    # teleportation = LinearOperator((N,N), matvec=mv)\n",
    "    # d, Peq = eigs(teleportation, k=1)\n",
    "\n",
    "    # Peq = Peq.reshape((G['nx'],G['ny'],G['nz']), order='F')\n",
    "    # if np.abs(np.real(d)-1) > 1e-6:\n",
    "    #     print (\"Unsuccessful eigen solve\")\n",
    "\n",
    "    #############################################################\n",
    "    #### Method #2: Richardson iteration for solving Mx = x #####\n",
    "    # #############################################################\n",
    "    # x = np.zeros(N,) # initial guess\n",
    "    # tol = 1e-2\n",
    "    # for j in range(1,math.ceil(-math.log(1/tol)/math.log(1-G[\"alpha\"]))):\n",
    "    #     x = (1-G[\"alpha\"])*(M*x) + G[\"alpha\"]/N *sum(x)*e\n",
    "    # x = np.real(x)\n",
    "    # x = np.sign(x[0])*x\n",
    "    # Peq = x.reshape((G['nx'],G['ny'],G['nz']), order='F')\n",
    "    \n",
    "    ########################################################\n",
    "    ##### Method #3: Directly invert the linear system ##### \n",
    "    ########################################################\n",
    "    ## This method is the FASTEST so far ##\n",
    "    ## Note that (1-a)Mx + a/N e sum(x) = (1-a)Mx + a/N e since we want sum(x)=1\n",
    "    ## Thus, finding x becomes ( (1-a)M - I )x  = -a/N e, while e^T x = 1\n",
    "\n",
    "    # The following four lines of code guarantee that the solution sums to 1.\n",
    "    # The following lines of code already guarantee that the solution sums to 1.\n",
    "    A = (1-G[\"alpha\"])*M - speyeN\n",
    "    b = -(G[\"alpha\"]/N)*e\n",
    "\n",
    "    x = spsolve(A, b )\n",
    "    Peq = x.reshape((G['nx'],G['ny'],G['nz']), order='F')\n",
    "\n",
    "\n",
    "    ##### Reshape the solution\n",
    "    Peq0 = Peq * 0\n",
    "    Peq0[1:-1, 1:-1,1:-1] = Peq[1:-1, 1:-1,1:-1]\n",
    "    Peq0 = Peq0/Peq0.sum()\n",
    "    Peq0 = Peq0.flatten(order = 'F')\n",
    "    \n",
    "    dgdrho = (1-G[\"alpha\"])*M;\n",
    "    dgdrho.data+=G[\"alpha\"]/N;\n",
    "    dgdrho = dgdrho - speyeN;\n",
    "\n",
    "    # return the transpose of matrix (1-G[\"alpha\"])*M - speyeN for adjoint eqn.\n",
    "    return (1-G[\"alpha\"])*M.transpose() - speyeN, Peq0, x, K_s, K_r, K_b, dgdrho"
   ]
  },
  {
   "cell_type": "code",
   "execution_count": null,
   "metadata": {},
   "outputs": [],
   "source": []
  },
  {
   "cell_type": "markdown",
   "metadata": {
    "id": "ykTb4mOk0rfY"
   },
   "source": [
    "### Forward Solve: given parameters, and return the stationary distribution (pdf)"
   ]
  },
  {
   "cell_type": "code",
   "execution_count": 9,
   "metadata": {
    "colab": {
     "base_uri": "https://localhost:8080/"
    },
    "id": "XAxyMmAUDyWt",
    "outputId": "3f6fe363-a0ff-477a-ff9e-3791b26ab323"
   },
   "outputs": [
    {
     "name": "stdout",
     "output_type": "stream",
     "text": [
      "time to solve the forward problem: \n",
      "0.4578261375427246\n"
     ]
    }
   ],
   "source": [
    "G[\"sigma\"]= 10\n",
    "G[\"r\"]= 28\n",
    "G[\"b\"]= 8/3\n",
    "\n",
    "start=time()\n",
    "A,_,Peq_true,K_s, K_r, K_b, dgdrho  = FWD(G,bounds)\n",
    "end=time()\n",
    "print(\"time to solve the forward problem: \")\n",
    "print(end-start)\n"
   ]
  },
  {
   "cell_type": "code",
   "execution_count": null,
   "metadata": {},
   "outputs": [],
   "source": []
  },
  {
   "cell_type": "markdown",
   "metadata": {
    "id": "vKPTH5h-0rfq"
   },
   "source": [
    "### Adjoint Method to Obtain the Gradient: given parameters and pdf, and return adjoint variable and the gradient (5.8)"
   ]
  },
  {
   "cell_type": "code",
   "execution_count": 10,
   "metadata": {
    "colab": {
     "base_uri": "https://localhost:8080/"
    },
    "id": "D9twDZtLLAbg",
    "outputId": "a2c4247d-211c-4b29-d041-cf75b0b01ef0"
   },
   "outputs": [
    {
     "name": "stdout",
     "output_type": "stream",
     "text": [
      "-4.2246028897352517e-10\n",
      "8.677867644098512e-05\n",
      "-2.0548347227610024e-05\n",
      "-0.00011794355020396044\n"
     ]
    }
   ],
   "source": [
    "G[\"sigma\"]= 11\n",
    "G[\"r\"]= 28\n",
    "G[\"b\"]= 8/3\n",
    "\n",
    "#### 1. Solve the forward problem\n",
    "A,_,Peq, K_s,K_r, K_b, dgdrho = FWD(G,bounds)\n",
    "#### 2. compute the loss function\n",
    "\n",
    "## L2 distance\n",
    "u = Peq - Peq_true\n",
    "cost = np.linalg.norm(Peq - Peq_true)**2 *0.5\n",
    "\n",
    "## W2 distance\n",
    "# _,log = ot.lp.emd(Peq, Peq_true, costM, numItermax=1000000, log=True)\n",
    "# cost = log['cost']\n",
    "# u = log['u']\n",
    "\n",
    "#### 3. Solve the adjoint equation\n",
    "sol = spsolve(A,-u + u.dot(Peq))\n",
    "print(sol.sum())\n",
    "\n",
    "#### 4. compute the gradient\n",
    "grad1_adj =   sol.dot(K_s*Peq)\n",
    "grad2_adj =   sol.dot(K_r*Peq)\n",
    "grad3_adj =   sol.dot(K_b*Peq)\n",
    "print(grad1_adj)\n",
    "print(grad2_adj)\n",
    "print(grad3_adj)\n",
    "eta_adj = np.array([grad1_adj, grad2_adj, grad3_adj]);"
   ]
  },
  {
   "cell_type": "code",
   "execution_count": null,
   "metadata": {},
   "outputs": [],
   "source": []
  },
  {
   "cell_type": "markdown",
   "metadata": {
    "id": "q36bS9C4rxWU"
   },
   "source": [
    "### Implicit Function Method to Obtain the Gradient: given parameters and pdf, and compute gradient following (5.6)"
   ]
  },
  {
   "cell_type": "code",
   "execution_count": 11,
   "metadata": {
    "colab": {
     "base_uri": "https://localhost:8080/"
    },
    "id": "SoZu04wxBrec",
    "outputId": "e25d09e1-807b-4385-ae3e-1bc5de93cf82"
   },
   "outputs": [
    {
     "name": "stdout",
     "output_type": "stream",
     "text": [
      "[ 5.08620923e-15 -6.74113543e-14  3.31679129e-14]\n",
      "8.677867644099103e-05\n",
      "-2.0548347227631925e-05\n",
      "-0.00011794355020394319\n"
     ]
    }
   ],
   "source": [
    "G[\"sigma\"]= 11\n",
    "G[\"r\"]= 28\n",
    "G[\"b\"]= 8/3\n",
    "\n",
    "#### 1. Solve the forward problem\n",
    "A,_,Peq, K_s,K_r, K_b, dgdrho = FWD(G,bounds)\n",
    "#### 2. compute the loss function\n",
    "\n",
    "#### 2. Solve the \"adjoint\" equation\n",
    "#### Note that the solution is exactly   d Peq / d \\theta \n",
    "\n",
    "B= np.asarray([-K_s*Peq, -K_r*Peq, -K_b*Peq]).transpose()\n",
    "#drho/dTheta 3 col vector\n",
    "drhodtheta = spsolve(A.transpose(),B)\n",
    "print(drhodtheta.sum(axis=0))\n",
    "\n",
    "### 3. Compute the objective function and dJ/d Peq (Frechet derivative)\n",
    "\n",
    "## L2 distance\n",
    "u = Peq - Peq_true\n",
    "cost = np.linalg.norm(Peq - Peq_true)**2 *0.5\n",
    "\n",
    "## W2 distance\n",
    "# _,log = ot.lp.emd(Peq, Peq_true, costM, numItermax=1000000, log=True)\n",
    "# cost = log['cost']\n",
    "# u = log['u']\n",
    "\n",
    "#### 4. compute the gradient\n",
    "grad1_implicit =   drhodtheta[:,0].dot(u)\n",
    "grad2_implicit =   drhodtheta[:,1].dot(u)\n",
    "grad3_implicit =   drhodtheta[:,2].dot(u)\n",
    "print(grad1_implicit)\n",
    "print(grad2_implicit)\n",
    "print(grad3_implicit)\n",
    "eta_implicit = np.array([grad1_implicit, grad2_implicit, grad3_implicit])"
   ]
  },
  {
   "cell_type": "markdown",
   "metadata": {
    "id": "WTiySypqu19f"
   },
   "source": [
    "### Two different methods but produce the same gradient!"
   ]
  },
  {
   "cell_type": "code",
   "execution_count": 12,
   "metadata": {
    "colab": {
     "base_uri": "https://localhost:8080/"
    },
    "id": "dCuwxEEouRk2",
    "outputId": "7b6e93b9-2ea6-457d-fa2b-34c41b0a9ff4"
   },
   "outputs": [
    {
     "name": "stdout",
     "output_type": "stream",
     "text": [
      "4.506215279392878e-17\n"
     ]
    }
   ],
   "source": [
    "print(abs(grad1_implicit - grad1_adj) + abs(grad2_implicit-grad2_adj)+ abs(grad3_implicit-grad3_adj) ) "
   ]
  },
  {
   "cell_type": "markdown",
   "metadata": {},
   "source": [
    "### Compute the L2 GD direction throught Least Square Minimization\n",
    "\n",
    "We want to minimize:\n",
    "\n",
    "$$\\eta^l = argmin_{\\eta}|| \\phi^l + \\zeta \\eta ||^2$$"
   ]
  },
  {
   "cell_type": "code",
   "execution_count": 13,
   "metadata": {},
   "outputs": [
    {
     "name": "stdout",
     "output_type": "stream",
     "text": [
      "[-0.00106812  0.00150138  0.00570889]\n"
     ]
    }
   ],
   "source": [
    "Q, R = linalg.qr(drhodtheta, mode = 'economic');\n",
    "eta_l2 = np.linalg.solve(R, -Q.T@u);\n",
    "print(eta_l2);"
   ]
  },
  {
   "cell_type": "markdown",
   "metadata": {},
   "source": [
    "### Compute the L2 GD direction through Kernel Matrix"
   ]
  },
  {
   "cell_type": "code",
   "execution_count": 14,
   "metadata": {},
   "outputs": [],
   "source": [
    "## Compute the l2 descent dir through the kernel matrix and compare\n",
    "def Gl2func(ksi):\n",
    "    dgdtheta = np.asarray([K_s*Peq, K_r*Peq, K_b*Peq]).transpose();\n",
    "    B = -dgdtheta@ksi;\n",
    "    Ksi_rho = spsolve(dgdrho, B);\n",
    "    landa = spsolve(dgdrho.T, -Ksi_rho);\n",
    "    return dgdtheta.T@landa;"
   ]
  },
  {
   "cell_type": "code",
   "execution_count": 15,
   "metadata": {},
   "outputs": [],
   "source": [
    "##define the linear operator \n",
    "LO = sparse.linalg.LinearOperator((3, 3), matvec=Gl2func);\n",
    "##define the initial starting point\n",
    "initial_x = -eta_adj;\n",
    "eta_l2_gmres,_ = sparse.linalg.gmres(LO, -eta_implicit, x0=initial_x, tol=1e-5);"
   ]
  },
  {
   "cell_type": "code",
   "execution_count": 16,
   "metadata": {},
   "outputs": [
    {
     "name": "stdout",
     "output_type": "stream",
     "text": [
      "0.9999999999643594\n",
      "[-0.00106769  0.00150077  0.00570672]\n"
     ]
    }
   ],
   "source": [
    "print(cosine(eta_l2_gmres, eta_l2));\n",
    "print(eta_l2_gmres)"
   ]
  },
  {
   "cell_type": "markdown",
   "metadata": {},
   "source": [
    "### Compute L2 Gradient Direction using Hutchinson Method"
   ]
  },
  {
   "cell_type": "code",
   "execution_count": 17,
   "metadata": {},
   "outputs": [],
   "source": [
    "N=N1*N2*N3;\n",
    "def Hutchinson_compute(m, rho, A, dmdt1, dmdt2, dmdt3):\n",
    "    N = rho.shape[0];\n",
    "    H = np.random.normal(0, 1, size = [N, m]);\n",
    "    One = np.ones(N);\n",
    "    P = np.outer(One, H.T@rho) -H;\n",
    "    Landa = spsolve(A, P);\n",
    "    T1 = Landa.T@(dmdt1*rho);\n",
    "    T2 = Landa.T@(dmdt2*rho);\n",
    "    T3 = Landa.T@(dmdt3*rho);\n",
    "    result = np.array([H@T1, H@T2, H@T3]).T;\n",
    "    return result/m;"
   ]
  },
  {
   "cell_type": "code",
   "execution_count": 24,
   "metadata": {},
   "outputs": [
    {
     "name": "stdout",
     "output_type": "stream",
     "text": [
      "[-9.67005148e-05  1.20174855e-04  2.81336831e-04]\n"
     ]
    }
   ],
   "source": [
    "#compute the gradient using hutchinson method\n",
    "drhodtheta_hut = Hutchinson_compute(300, Peq, A, K_s, K_r, K_b);\n",
    "#compute the l2 descent direction using qr factorization\n",
    "Q, R = linalg.qr(drhodtheta_hut, mode = 'economic');\n",
    "eta_l2_hut = np.linalg.solve(R, -Q.T@u);\n",
    "print(eta_l2_hut);"
   ]
  },
  {
   "cell_type": "code",
   "execution_count": 25,
   "metadata": {},
   "outputs": [
    {
     "data": {
      "text/plain": [
       "0.9818737500660443"
      ]
     },
     "execution_count": 25,
     "metadata": {},
     "output_type": "execute_result"
    }
   ],
   "source": [
    "cosine(eta_l2, eta_l2_hut)"
   ]
  },
  {
   "cell_type": "code",
   "execution_count": 20,
   "metadata": {},
   "outputs": [
    {
     "name": "stdout",
     "output_type": "stream",
     "text": [
      "0\n",
      "1\n",
      "2\n",
      "3\n",
      "4\n",
      "5\n",
      "6\n",
      "7\n",
      "8\n",
      "9\n",
      "10\n",
      "11\n",
      "12\n",
      "13\n",
      "14\n",
      "15\n",
      "16\n",
      "17\n",
      "18\n",
      "19\n"
     ]
    }
   ],
   "source": [
    "eta_cos = [];\n",
    "grad1_cos=[]; grad2_cos=[]; grad3_cos=[];\n",
    "M = [60, 120, 180, 240, 300, 360, 420, 480, 540, 600, 660, 720, 780, 840, 900, 960, 1020, 1080, 1140, 1200];\n",
    "for i in range(20):\n",
    "    print(i);\n",
    "    m = M[i];\n",
    "    drhodtheta_hut = Hutchinson_compute(m, Peq, A, K_s, K_r, K_b);\n",
    "    Q, R = linalg.qr(drhodtheta_hut, mode = 'economic');\n",
    "    eta_l2_hut = np.linalg.solve(R, -Q.T@u);\n",
    "    eta_cos.append(cosine(eta_l2, eta_l2_hut));\n",
    "    grad1_cos.append(cosine(drhodtheta_hut[:, 0], drhodtheta[:, 0]));\n",
    "    grad2_cos.append(cosine(drhodtheta_hut[:, 1], drhodtheta[:, 1]));\n",
    "    grad3_cos.append(cosine(drhodtheta_hut[:, 2], drhodtheta[:, 2]));"
   ]
  },
  {
   "cell_type": "code",
   "execution_count": 21,
   "metadata": {},
   "outputs": [
    {
     "data": {
      "image/png": "[encoded data removed]",
      "text/plain": [
       "<Figure size 1080x720 with 4 Axes>"
      ]
     },
     "metadata": {
      "needs_background": "light"
     },
     "output_type": "display_data"
    }
   ],
   "source": [
    "f, ax = plt.subplots(2,2,figsize=(15,10));\n",
    "ax[0][0].plot(M, eta_cos);\n",
    "ax[0][0].set_title(\"Cosine of the Angle Between Estimated and Real Eta\");\n",
    "ax[0][0].set_xlabel(\"Numbr of random vector used\");\n",
    "ax[0][0].set_ylabel(\"Cosine of the angle\");\n",
    "ax[0][1].plot(M, grad1_cos);\n",
    "ax[0][1].set_title(\"Cosine of the Angle Between Estimated and Real drhodtheta1\");\n",
    "ax[0][1].set_xlabel(\"Numbr of random vector used\");\n",
    "ax[0][1].set_ylabel(\"Cosine of the angle\");\n",
    "ax[1][0].plot(M, grad2_cos);\n",
    "ax[1][0].set_title(\"Cosine of the Angle Between Estimated and Real drhodtheta2\");\n",
    "ax[1][0].set_xlabel(\"Numbr of random vector used\");\n",
    "ax[1][0].set_ylabel(\"Cosine of the angle\");\n",
    "ax[1][1].plot(M, grad3_cos);\n",
    "ax[1][1].set_title(\"Cosine of the Angle Between Estimated and Real drhodtheta3\");\n",
    "ax[1][1].set_xlabel(\"Numbr of random vector used\");\n",
    "ax[1][1].set_ylabel(\"Cosine of the angle\");"
   ]
  },
  {
   "cell_type": "code",
   "execution_count": 33,
   "metadata": {},
   "outputs": [
    {
     "name": "stdout",
     "output_type": "stream",
     "text": [
      "0\n",
      "1\n",
      "2\n",
      "3\n",
      "4\n",
      "5\n",
      "6\n",
      "7\n",
      "8\n",
      "9\n",
      "10\n",
      "11\n"
     ]
    }
   ],
   "source": [
    "eta_cos = []; Matrix_norm=[];\n",
    "#M = [60, 120, 180, 240, 300, 360, 420, 480, 540, 600, 660, 720, 780, 840, 900, 960, 1020];\n",
    "M = [60, 120, 180, 240, 300, 360, 420, 480, 540, 600, 660, 720];\n",
    "for i in range(len(M)):\n",
    "    print(i);\n",
    "    m = M[i];\n",
    "    m_norm = 0; a_cos = 0;\n",
    "    for j in range(40):\n",
    "        drhodtheta_hut = Hutchinson_compute(m, Peq, A, K_s, K_r, K_b);\n",
    "        Q, R = linalg.qr(drhodtheta_hut, mode = 'economic');\n",
    "        eta_l2_hut = np.linalg.solve(R, -Q.T@u);\n",
    "        a_cos+= cosine(eta_l2, eta_l2_hut);\n",
    "        m_norm+= np.linalg.norm(drhodtheta-drhodtheta_hut, ord=2);\n",
    "    m_norm/=40; a_cos/=40;\n",
    "    eta_cos.append(a_cos);\n",
    "    Matrix_norm.append(m_norm);"
   ]
  },
  {
   "cell_type": "code",
   "execution_count": 55,
   "metadata": {
    "scrolled": true
   },
   "outputs": [
    {
     "data": {
      "image/png": "[encoded data removed]",
      "text/plain": [
       "<Figure size 1080x360 with 2 Axes>"
      ]
     },
     "metadata": {
      "needs_background": "light"
     },
     "output_type": "display_data"
    }
   ],
   "source": [
    "f, ax = plt.subplots(1,2,figsize=(15,5));\n",
    "ax[0].scatter(M, eta_cos);\n",
    "ax[1].scatter(M, Matrix_norm, c='green');\n",
    "ax[0].set_xlabel(\"Number of Hutchinson Vectors: m\");\n",
    "ax[1].set_xlabel(\"Number of Hutchinson Vectors: m\");\n",
    "ax[0].set_ylabel('cosine');\n",
    "ax[1].set_ylabel('Induced 2-norm');\n",
    "ax[0].set_title('Cosine of the Angle btw Real and Estimated L2 nat GD direction');\n",
    "ax[1].set_title('Induced 2-norm of the Difference between Real and Estimated Z matrix');\n",
    "plt.savefig(\"Huthinson_L2_performance.png\", dpi=200)"
   ]
  },
  {
   "cell_type": "code",
   "execution_count": null,
   "metadata": {},
   "outputs": [],
   "source": []
  },
  {
   "cell_type": "markdown",
   "metadata": {},
   "source": [
    "# Compute the $W_2$ Natural Gradient Direction"
   ]
  },
  {
   "cell_type": "code",
   "execution_count": 23,
   "metadata": {},
   "outputs": [],
   "source": [
    "##returns a lil sparse matrix\n",
    "def small_A(N):\n",
    "    diags = np.array([-1, 1]);\n",
    "    data = [-np.ones(N), np.ones(N)];\n",
    "    B1 = spdiags(data, diags, N, N);\n",
    "    ##change few entries in this matrix\n",
    "    B1 = sparse.lil_matrix(B1);\n",
    "    B1[0, 0] = 1; B1[0, 1] = 0;\n",
    "    B1[-1, -1] = 1; B1[-1, -2] = 0;\n",
    "    return B1;\n",
    "\n",
    "##discretization in 3D\n",
    "##N1, N2, N3 must all be positive for this matrix to be invertible\n",
    "def discretize(N1, N2, N3, dx, dy, dz):\n",
    "    B1 = small_A(N1);\n",
    "    B2 = small_A(N2);\n",
    "    B3 = small_A(N3);\n",
    "    A1 = kron(np.identity(N2*N3), B1)/(2*dx);\n",
    "    C = kron(B2, np.identity(N1));\n",
    "    A2 = kron(np.identity(N3), C)/(2*dy);\n",
    "    A3 = kron(B3, np.identity(N1*N2))/(2*dz);\n",
    "    A = sparse.vstack([A1, A2, A3]);\n",
    "    return [A.toarray(), A];  \n",
    "\n",
    "A_dis, A_dis_sp = discretize(N1, N2, N3, G['dx'], G['dx'], G['dx']);"
   ]
  },
  {
   "cell_type": "code",
   "execution_count": null,
   "metadata": {},
   "outputs": [],
   "source": []
  },
  {
   "cell_type": "code",
   "execution_count": null,
   "metadata": {},
   "outputs": [],
   "source": []
  },
  {
   "cell_type": "code",
   "execution_count": null,
   "metadata": {},
   "outputs": [],
   "source": []
  },
  {
   "cell_type": "code",
   "execution_count": 24,
   "metadata": {},
   "outputs": [],
   "source": [
    "##compute the matrix B=AP^-1\n",
    "#N1, N2, N3 are the discretization numbers in three direction\n",
    "#p is the discretized value of the model in each grid points\n",
    "#A is the SPARSE discretization matrix that acts as a \n",
    "#convergence operator\n",
    "#it returns a B matrix and the Pinv matrix\n",
    "def Bmatrix(N1, N2, N3, p, A):\n",
    "    #modify the matrix A\n",
    "    A = A.T;\n",
    "    #the diagonal is the square root of the model in\n",
    "    #every inner discretization grid point\n",
    "    diagonal = p**0.5;\n",
    "    data = np.array([diagonal]);\n",
    "    #compute the matrix P^-1\n",
    "    N = N1*N2*N3;\n",
    "    sig = spdiags(data, np.array([0]), N, N);\n",
    "    Pinv = kron(identity(3), sig);\n",
    "    B = A@Pinv;\n",
    "    return [B, Pinv];   "
   ]
  },
  {
   "cell_type": "code",
   "execution_count": 25,
   "metadata": {},
   "outputs": [],
   "source": [
    "B, pinv = Bmatrix(N1, N2, N3, Peq, A_dis)"
   ]
  },
  {
   "cell_type": "code",
   "execution_count": null,
   "metadata": {},
   "outputs": [],
   "source": []
  },
  {
   "cell_type": "markdown",
   "metadata": {},
   "source": [
    "## Get the W2 Descent Direction by Solving 2 Least Square Linear System\n",
    "First, matrix Y is the least square solution of:\n",
    "$$BY = -\\frac{d\\rho}{d\\theta}$$\n",
    "where $B = AP$ and P is the matrix with $\\sqrt{\\rho}$ in its diagonal.\n",
    "\n",
    "Then we want to solve the following least square linear system:\n",
    "$$Y\\eta^{W} = -\\sqrt{\\rho}\\nabla\\frac{dJ}{d\\rho}$$\n"
   ]
  },
  {
   "cell_type": "code",
   "execution_count": 27,
   "metadata": {},
   "outputs": [],
   "source": [
    "import sparseqr"
   ]
  },
  {
   "cell_type": "code",
   "execution_count": 28,
   "metadata": {},
   "outputs": [],
   "source": [
    "def W2_dir(N1, N2, N3, p, A, dfdrho, drhodtheta):\n",
    "    ##reduce the drhodtheta\n",
    "    B, Pinv = Bmatrix(N1, N2, N3, p, A);\n",
    "    Y1 = sparse.linalg.lsqr(B, -drhodtheta[:, 0], \n",
    "                        atol=1e-14,btol=1e-14)[0];\n",
    "    Y2 = sparse.linalg.lsqr(B, -drhodtheta[:, 1], \n",
    "                        atol=1e-14,btol=1e-14)[0];\n",
    "    Y3 = sparse.linalg.lsqr(B, -drhodtheta[:, 2], \n",
    "                        atol=1e-14,btol=1e-14)[0];\n",
    "    Y = np.array([Y1, Y2, Y3]).T;\n",
    "    PinvA = Pinv*A;\n",
    "    dfdrho_sp = sparse.csr_matrix(dfdrho);\n",
    "    RHS = PinvA*(dfdrho_sp.T);\n",
    "    ita_w2 = sparseqr.solve(sparse.csr_matrix(Y), RHS).toarray();\n",
    "    return np.array([ita_w2[0][0], ita_w2[1][0], ita_w2[2][0]]);"
   ]
  },
  {
   "cell_type": "code",
   "execution_count": 29,
   "metadata": {},
   "outputs": [
    {
     "name": "stdout",
     "output_type": "stream",
     "text": [
      "[-7.99052689e-09  1.35758123e-08  4.81962785e-08]\n"
     ]
    }
   ],
   "source": [
    "eta_w2_lsq = W2_dir(N1, N2, N3, Peq, A_dis_sp, u, drhodtheta);\n",
    "print(eta_w2_lsq);"
   ]
  },
  {
   "cell_type": "code",
   "execution_count": null,
   "metadata": {},
   "outputs": [],
   "source": []
  },
  {
   "cell_type": "code",
   "execution_count": null,
   "metadata": {},
   "outputs": [],
   "source": []
  },
  {
   "cell_type": "code",
   "execution_count": null,
   "metadata": {},
   "outputs": [],
   "source": []
  },
  {
   "cell_type": "code",
   "execution_count": null,
   "metadata": {},
   "outputs": [],
   "source": []
  },
  {
   "cell_type": "markdown",
   "metadata": {},
   "source": [
    "## Get $W_2$ direction through the kernel matrix:\n",
    "$$\\eta^W = -(Y^TY)^{-1}\\frac{dJ}{d\\theta}$$"
   ]
  },
  {
   "cell_type": "code",
   "execution_count": 30,
   "metadata": {},
   "outputs": [],
   "source": [
    "##we use the same Y computed in the previous section\n",
    "B, Pinv = Bmatrix(N1, N2, N3, Peq, A_dis_sp);\n",
    "Y1 = sparse.linalg.lsqr(B, -drhodtheta[:, 0], \n",
    "                        atol=1e-14,btol=1e-14)[0];\n",
    "Y2 = sparse.linalg.lsqr(B, -drhodtheta[:, 1], \n",
    "                        atol=1e-14,btol=1e-14)[0];\n",
    "Y3 = sparse.linalg.lsqr(B, -drhodtheta[:, 2], \n",
    "                        atol=1e-14,btol=1e-14)[0];\n",
    "Y = np.array([Y1, Y2, Y3]).T;"
   ]
  },
  {
   "cell_type": "code",
   "execution_count": 31,
   "metadata": {},
   "outputs": [
    {
     "name": "stdout",
     "output_type": "stream",
     "text": [
      "[-7.99052689e-09  1.35758123e-08  4.81962785e-08]\n",
      "0.9999999999999999\n"
     ]
    }
   ],
   "source": [
    "eta_w2 = -np.linalg.inv(Y.T@Y)@eta_implicit;\n",
    "print(eta_w2);\n",
    "print(cosine(eta_w2, eta_w2_lsq))"
   ]
  },
  {
   "cell_type": "code",
   "execution_count": null,
   "metadata": {},
   "outputs": [],
   "source": []
  },
  {
   "cell_type": "code",
   "execution_count": null,
   "metadata": {},
   "outputs": [],
   "source": []
  },
  {
   "cell_type": "markdown",
   "metadata": {},
   "source": [
    "## Get $W_2$ Descent Direction through Hutchinson Method"
   ]
  },
  {
   "cell_type": "code",
   "execution_count": 32,
   "metadata": {
    "scrolled": true
   },
   "outputs": [],
   "source": [
    "BBtinv = sparse.linalg.inv((B*B.T).tocsc())\n",
    "B_dagger = B.T*BBtinv;\n",
    "\n",
    "def hut_w2(N1, N2, N3, m):\n",
    "    N=N1*N2*N3;\n",
    "    B, Pinv = Bmatrix(N1, N2, N3, Peq, A_dis_sp);\n",
    "    ##generate m random vectors\n",
    "    H = np.random.normal(0, 1, size=[N, m]);\n",
    "    ##compute matrix W\n",
    "    W = -B_dagger@H;\n",
    "    # ##solve the adjoint equation and get lambda\n",
    "    RHS = -H + H.T@Peq;\n",
    "    # ##use A instead of dgdrho\n",
    "    Landa = spsolve(A.tocsr(), RHS);\n",
    "    # ##do the estimation and get Hm(Y)\n",
    "    dgdtheta = np.array([K_s*Peq, K_r*Peq, K_b*Peq]).T;\n",
    "    Y_est = W@(Landa.T@dgdtheta)/m;\n",
    "    # ##solve the least square linear system and get eta_w2\n",
    "    PinvA = Pinv*A_dis_sp; #<- sqrt(p)*div\n",
    "    RHS = PinvA@(u.T);\n",
    "    q, r = np.linalg.qr(Y_est);\n",
    "    eta_w2_hut = np.linalg.solve(r, q.T@RHS);\n",
    "    return eta_w2_hut, cosine(eta_w2_hut, eta_w2);"
   ]
  },
  {
   "cell_type": "code",
   "execution_count": 168,
   "metadata": {
    "scrolled": true
   },
   "outputs": [],
   "source": [
    "##let's record the output for \n",
    "M = [50, 100, 150, 200, 250, 300, 350, 400, 450, 500, 550,\n",
    "    600, 650, 700, 750, 800, 850, 900, 950, 1000];\n",
    "dir_w2_dict = {50: 0, 100: 0, 150: 0, 200: 0, 250: 0, 300: 0, \n",
    "              350: 0, 400: 0, 450: 0, 500: 0, 550: 0,\n",
    "    600: 0, 650: 0, 700: 0, 750: 0, 800: 0, 850: 0, 900: 0, \n",
    "               950: 0, 1000: 0};\n",
    "score_dict = {50: 0, 100: 0, 150: 0, 200: 0, 250: 0, 300: 0, \n",
    "              350: 0, 400: 0, 450: 0, 500: 0, 550: 0,\n",
    "    600: 0, 650: 0, 700: 0, 750: 0, 800: 0, 850: 0, 900: 0, \n",
    "               950: 0, 1000: 0};\n",
    "##Let's do 400 simulations for each m"
   ]
  },
  {
   "cell_type": "code",
   "execution_count": 188,
   "metadata": {
    "scrolled": false
   },
   "outputs": [
    {
     "name": "stdout",
     "output_type": "stream",
     "text": [
      "50\n",
      "100\n",
      "150\n",
      "200\n",
      "250\n",
      "300\n",
      "350\n",
      "400\n",
      "450\n",
      "500\n",
      "550\n",
      "600\n",
      "650\n",
      "700\n",
      "750\n",
      "800\n",
      "850\n",
      "900\n",
      "950\n",
      "1000\n"
     ]
    }
   ],
   "source": [
    "for m in M:\n",
    "    print(m);\n",
    "    direct_list = [];\n",
    "    score_list = [];\n",
    "    for i in range(40):\n",
    "        direct, score = hut_w2(N1, N2, N3, m);\n",
    "        direct_list.append(direct);\n",
    "        score_list.append(score);\n",
    "    dir_w2_dict[m] = np.array(direct_list);\n",
    "    score_dict[m] = np.array(score_list);"
   ]
  },
  {
   "cell_type": "code",
   "execution_count": 227,
   "metadata": {},
   "outputs": [],
   "source": [
    "np.save(\"dir_w2_dict.npy\", dir_w2_dict);\n",
    "np.save(\"score_dict.npy\", score_dict);"
   ]
  },
  {
   "cell_type": "code",
   "execution_count": 169,
   "metadata": {
    "scrolled": true
   },
   "outputs": [],
   "source": [
    "dir_w2_dict = np.load(\"dir_w2_dict.npy\", allow_pickle=True);\n",
    "dir_w2_dict = dir_w2_dict[()];\n",
    "score_dict = np.load(\"score_dict.npy\", allow_pickle=True);\n",
    "score_dict = score_dict[()];"
   ]
  },
  {
   "cell_type": "code",
   "execution_count": 31,
   "metadata": {},
   "outputs": [],
   "source": [
    "##plot the statistics of our simulations\n",
    "##we create an array to store the average score of each m\n",
    "avg_score = [];\n",
    "##we also want to record the percentage of the outputs that are\n",
    "##>95; >85 >75\n",
    "stat_75 = []; stat_85 = []; stat_95 = [];\n",
    "for key in score_dict:\n",
    "    avg_score.append(score_dict[key].mean());\n",
    "    stat_75.append(np.count_nonzero(score_dict[key] > .75));\n",
    "    stat_85.append(np.count_nonzero(score_dict[key] > .85));\n",
    "    stat_95.append(np.count_nonzero(score_dict[key] > .95));\n",
    "stat_75 = np.array(stat_75)/40;\n",
    "stat_85 = np.array(stat_85)/40;\n",
    "stat_95 = np.array(stat_95)/40;\n",
    "avg_score = np.array(avg_score);"
   ]
  },
  {
   "cell_type": "code",
   "execution_count": null,
   "metadata": {},
   "outputs": [],
   "source": []
  },
  {
   "cell_type": "code",
   "execution_count": null,
   "metadata": {},
   "outputs": [],
   "source": []
  },
  {
   "cell_type": "code",
   "execution_count": 32,
   "metadata": {
    "scrolled": true
   },
   "outputs": [
    {
     "data": {
      "image/png": "[encoded data removed]",
      "text/plain": [
       "<Figure size 1080x360 with 2 Axes>"
      ]
     },
     "metadata": {
      "needs_background": "light"
     },
     "output_type": "display_data"
    }
   ],
   "source": [
    "f, ax = plt.subplots(1,2,figsize=(15,5));\n",
    "ax[0].scatter(range(50, 1050, 50), avg_score);\n",
    "ax[0].set_xlabel(\"Number of Random Vectors\");\n",
    "ax[0].set_ylabel(\"Cosine of the Angle\");\n",
    "ax[1].scatter(range(50, 1050, 50), stat_95, label='>0.95');\n",
    "ax[1].scatter(range(50, 1050, 50), stat_85, label='>0.85');\n",
    "ax[1].scatter(range(50, 1050, 50), stat_75, label='>0.75');\n",
    "ax[1].set_xlabel(\"Number of Random Vectors\");\n",
    "ax[1].set_ylabel(\"Percentage\");\n",
    "ax[1].legend()\n",
    "ax[0].set_title(\"Average Accuracy (in 40 simulations)\");\n",
    "ax[1].set_title(\"Performance Distribution Ratio\");\n",
    "plt.savefig(\"Huthinson_W2_performance.png\", dpi=200)"
   ]
  },
  {
   "cell_type": "code",
   "execution_count": null,
   "metadata": {},
   "outputs": [],
   "source": []
  },
  {
   "cell_type": "code",
   "execution_count": null,
   "metadata": {},
   "outputs": [],
   "source": []
  },
  {
   "cell_type": "markdown",
   "metadata": {},
   "source": [
    "## Compute the $W_2$ Descent direction through the GMRES"
   ]
  },
  {
   "cell_type": "code",
   "execution_count": 170,
   "metadata": {},
   "outputs": [],
   "source": [
    "BBtinv = sparse.linalg.inv((B*B.T).tocsc())\n",
    "B_dagger = B.T*BBtinv;\n",
    "\n",
    "#define the linear operator ksi -> Gw2 * ksi\n",
    "def Gw2func(ksi):\n",
    "    print(\"Gw2func\");\n",
    "    dgdtheta = np.asarray([K_s*Peq, K_r*Peq, K_b*Peq]).T;\n",
    "    B_mat = -dgdtheta@ksi;\n",
    "    Ksi_rho = spsolve(A.T, B_mat);\n",
    "    landa = spsolve(A, -B_dagger.T*(B_dagger*Ksi_rho));\n",
    "    return dgdtheta.T@landa;"
   ]
  },
  {
   "cell_type": "code",
   "execution_count": 171,
   "metadata": {
    "scrolled": true
   },
   "outputs": [
    {
     "name": "stdout",
     "output_type": "stream",
     "text": [
      "Gw2func\n",
      "Gw2func\n",
      "Gw2func\n",
      "Gw2func\n",
      "Gw2func\n",
      "Gw2func\n",
      "Gw2func\n",
      "0.8914749622344971\n"
     ]
    }
   ],
   "source": [
    "##define the linear operator \n",
    "LO_w2 = sparse.linalg.LinearOperator((3, 3), matvec=Gw2func);\n",
    "##define the initial starting point\n",
    "initial_x = -eta_adj;\n",
    "start = time();\n",
    "eta_w2_gmres,_ = sparse.linalg.gmres(LO_w2, -eta_implicit, x0=initial_x, tol=1e-8);\n",
    "end = time();\n",
    "print(end-start)"
   ]
  },
  {
   "cell_type": "code",
   "execution_count": 172,
   "metadata": {},
   "outputs": [
    {
     "name": "stdout",
     "output_type": "stream",
     "text": [
      "[-7.99052689e-09  1.35758123e-08  4.81962785e-08]\n",
      "[-7.99052688e-09  1.35758123e-08  4.81962785e-08]\n"
     ]
    },
    {
     "data": {
      "text/plain": [
       "1.0"
      ]
     },
     "execution_count": 172,
     "metadata": {},
     "output_type": "execute_result"
    }
   ],
   "source": [
    "print(eta_w2)\n",
    "print(eta_w2_gmres)\n",
    "cosine(eta_w2_gmres, eta_w2)"
   ]
  },
  {
   "cell_type": "code",
   "execution_count": 53,
   "metadata": {},
   "outputs": [
    {
     "name": "stdout",
     "output_type": "stream",
     "text": [
      "50\n",
      "100\n",
      "150\n",
      "200\n",
      "250\n",
      "300\n",
      "350\n",
      "400\n",
      "450\n",
      "500\n",
      "550\n",
      "600\n",
      "650\n",
      "700\n",
      "750\n",
      "800\n",
      "850\n",
      "900\n",
      "950\n",
      "1000\n"
     ]
    }
   ],
   "source": [
    "M = [50, 100, 150, 200, 250, 300, 350, 400, 450, 500, 550,\n",
    "    600, 650, 700, 750, 800, 850, 900, 950, 1000];\n",
    "time_list = [];\n",
    "for m in M:\n",
    "    print(m)\n",
    "    start = time();\n",
    "    hut_w2(N1, N2, N3, m);\n",
    "    end = time();\n",
    "    time_list.append(end-start);\n",
    "    "
   ]
  },
  {
   "cell_type": "code",
   "execution_count": 67,
   "metadata": {},
   "outputs": [
    {
     "data": {
      "image/png": "[encoded data removed]",
      "text/plain": [
       "<Figure size 1000x700 with 1 Axes>"
      ]
     },
     "metadata": {
      "needs_background": "light"
     },
     "output_type": "display_data"
    }
   ],
   "source": [
    "plt.figure(figsize=(10, 7), dpi=100)\n",
    "plt.plot(range(50, 1050, 50), time_list);\n",
    "plt.xticks(M);\n",
    "plt.yticks(range(0, 8));\n",
    "plt.xlabel(\"Number of Random Vectors\");\n",
    "plt.ylabel(\"time/ sec\");\n",
    "plt.title(\"Time Complexity of Hutchinson Estimator with Different number of Random Vectors\");\n",
    "plt.savefig(\"time.png\", dpi=300);"
   ]
  },
  {
   "cell_type": "markdown",
   "metadata": {},
   "source": [
    "Option 2: Random Draws in the "
   ]
  },
  {
   "cell_type": "code",
   "execution_count": 173,
   "metadata": {},
   "outputs": [],
   "source": [
    "def w2_hut_2(N1, N2, N3, m):\n",
    "    N = N1*N2*N3;\n",
    "    B, Pinv = Bmatrix(N1, N2, N3, Peq, A_dis_sp);\n",
    "    ##generate m random vectors for W\n",
    "    W = np.random.normal(0, 1, size=[N*3, m]);\n",
    "    ##compute the matrix H, H = B_dagger.T * W\n",
    "    H = B_dagger.T*W;\n",
    "    # ##solve the adjoint equation and get lambda\n",
    "    RHS = -H + H.T@Peq;\n",
    "    # ##use A instead of dgdrho\n",
    "    Landa = spsolve(A.tocsr(), RHS);\n",
    "    # ##do the estimation and get Hm(Y)\n",
    "    dgdtheta = np.array([K_s*Peq, K_r*Peq, K_b*Peq]).T;\n",
    "    Y_est = W@(Landa.T@dgdtheta)/m;\n",
    "    # ##solve the least square linear system and get eta_w2\n",
    "    PinvA = Pinv*A_dis_sp; #<- sqrt(p)*div\n",
    "    RHS = -PinvA@(u.T);\n",
    "    q, r = np.linalg.qr(Y_est);\n",
    "    eta_w2_hut = np.linalg.solve(r, q.T@RHS);\n",
    "    return eta_w2_hut, cosine(eta_w2_hut, eta_w2);"
   ]
  },
  {
   "cell_type": "code",
   "execution_count": 103,
   "metadata": {},
   "outputs": [],
   "source": [
    "##let's record the output for \n",
    "M = [50, 100, 150, 200, 250, 300, 350, 400, 450, 500, 550,\n",
    "    600, 650, 700, 750, 800, 850, 900, 950, 1000];\n",
    "dir_w2_dict2 = {50: 0, 100: 0, 150: 0, 200: 0, 250: 0, 300: 0, \n",
    "              350: 0, 400: 0, 450: 0, 500: 0, 550: 0,\n",
    "    600: 0, 650: 0, 700: 0, 750: 0, 800: 0, 850: 0, 900: 0, \n",
    "               950: 0, 1000: 0};\n",
    "score_dict2 = {50: 0, 100: 0, 150: 0, 200: 0, 250: 0, 300: 0, \n",
    "              350: 0, 400: 0, 450: 0, 500: 0, 550: 0,\n",
    "    600: 0, 650: 0, 700: 0, 750: 0, 800: 0, 850: 0, 900: 0, \n",
    "               950: 0, 1000: 0};\n",
    "##Let's do 400 simulations for each m"
   ]
  },
  {
   "cell_type": "code",
   "execution_count": 104,
   "metadata": {},
   "outputs": [
    {
     "name": "stdout",
     "output_type": "stream",
     "text": [
      "50\n",
      "100\n",
      "150\n",
      "200\n",
      "250\n",
      "300\n",
      "350\n",
      "400\n",
      "450\n",
      "500\n",
      "550\n",
      "600\n",
      "650\n",
      "700\n",
      "750\n",
      "800\n",
      "850\n",
      "900\n",
      "950\n",
      "1000\n"
     ]
    }
   ],
   "source": [
    "for m in M:\n",
    "    print(m);\n",
    "    direct_list = [];\n",
    "    score_list = [];\n",
    "    for i in range(40):\n",
    "        direct, score = w2_hut_2(N1, N2, N3, m);\n",
    "        direct_list.append(direct);\n",
    "        score_list.append(score);\n",
    "    dir_w2_dict2[m] = np.array(direct_list);\n",
    "    score_dict2[m] = np.array(score_list);"
   ]
  },
  {
   "cell_type": "code",
   "execution_count": 105,
   "metadata": {},
   "outputs": [],
   "source": [
    "np.save(\"dir_w2_dict2.npy\", dir_w2_dict2);\n",
    "np.save(\"score_dict2.npy\", score_dict2);"
   ]
  },
  {
   "cell_type": "code",
   "execution_count": 174,
   "metadata": {},
   "outputs": [],
   "source": [
    "dir_w2_dict2 = np.load(\"dir_w2_dict2.npy\", allow_pickle=True);\n",
    "dir_w2_dict2 = dir_w2_dict2[()];\n",
    "score_dict2 = np.load(\"score_dict2.npy\", allow_pickle=True);\n",
    "score_dict2 = score_dict2[()];"
   ]
  },
  {
   "cell_type": "code",
   "execution_count": 175,
   "metadata": {},
   "outputs": [],
   "source": [
    "##plot the statistics of our simulations\n",
    "##we create an array to store the average score of each m\n",
    "avg_score2 = [];\n",
    "##we also want to record the percentage of the outputs that are\n",
    "##>95; >85 >75\n",
    "stat2_75 = []; stat2_85 = []; stat2_95 = [];\n",
    "for key in score_dict2:\n",
    "    avg_score2.append(score_dict2[key].mean());\n",
    "    stat2_75.append(np.count_nonzero(score_dict2[key] > .75));\n",
    "    stat2_85.append(np.count_nonzero(score_dict2[key] > .85));\n",
    "    stat2_95.append(np.count_nonzero(score_dict2[key] > .95));\n",
    "stat2_75 = np.array(stat2_75)/40;\n",
    "stat2_85 = np.array(stat2_85)/40;\n",
    "stat2_95 = np.array(stat2_95)/40;\n",
    "avg_score2 = np.array(avg_score2);"
   ]
  },
  {
   "cell_type": "code",
   "execution_count": 176,
   "metadata": {},
   "outputs": [
    {
     "data": {
      "image/png": "[encoded data removed]",
      "text/plain": [
       "<Figure size 1080x360 with 2 Axes>"
      ]
     },
     "metadata": {
      "needs_background": "light"
     },
     "output_type": "display_data"
    }
   ],
   "source": [
    "f, ax = plt.subplots(1,2,figsize=(15,5));\n",
    "ax[0].scatter(range(50, 1050, 50), avg_score2);\n",
    "ax[0].set_xlabel(\"Number of Random Vectors\");\n",
    "ax[0].set_ylabel(\"Cosine of the Angle\");\n",
    "ax[1].scatter(range(50, 1050, 50), stat2_95, label='>0.95');\n",
    "ax[1].scatter(range(50, 1050, 50), stat2_85, label='>0.85');\n",
    "ax[1].scatter(range(50, 1050, 50), stat2_75, label='>0.75');\n",
    "ax[1].set_xlabel(\"Number of Random Vectors\");\n",
    "ax[1].set_ylabel(\"Percentage\");\n",
    "ax[1].legend()\n",
    "ax[0].set_title(\"Average Accuracy (in 40 simulations)\");\n",
    "ax[1].set_title(\"Performance Distribution Ratio\");\n",
    "plt.savefig(\"Huthinson_W2_performance2.png\", dpi=200)"
   ]
  },
  {
   "cell_type": "code",
   "execution_count": 177,
   "metadata": {},
   "outputs": [
    {
     "name": "stdout",
     "output_type": "stream",
     "text": [
      "1000\n",
      "1500\n",
      "2000\n",
      "2500\n",
      "3000\n",
      "3500\n",
      "4000\n",
      "4500\n",
      "5000\n"
     ]
    }
   ],
   "source": [
    "M = [1000, 1500, 2000, 2500, 3000, 3500, 4000, 4500, 5000];\n",
    "dir_w2_dict3 = {1000: 0, 1500: 0, 2000: 0, 2500: 0, 3000: 0, 3500: 0, \n",
    "              4000: 0, 4500: 0, 5000: 0};\n",
    "score_dict3 = {1000: 0, 1500: 0, 2000: 0, 2500: 0, 3000: 0, 3500: 0, \n",
    "              4000: 0, 4500: 0, 5000: 0};\n",
    "for m in M:\n",
    "    print(m);\n",
    "    direct_list = [];\n",
    "    score_list = [];\n",
    "    for i in range(30):\n",
    "        direct, score = w2_hut_2(N1, N2, N3, m);\n",
    "        direct_list.append(direct);\n",
    "        score_list.append(score);\n",
    "    dir_w2_dict3[m] = np.array(direct_list);\n",
    "    score_dict3[m] = np.array(score_list);"
   ]
  },
  {
   "cell_type": "code",
   "execution_count": 178,
   "metadata": {},
   "outputs": [],
   "source": [
    "np.save(\"dir_w2_dict3.npy\", dir_w2_dict3);\n",
    "np.save(\"score_dict3.npy\", score_dict3);"
   ]
  },
  {
   "cell_type": "code",
   "execution_count": 179,
   "metadata": {},
   "outputs": [],
   "source": [
    "dir_w2_dict3 = np.load(\"dir_w2_dict3.npy\", allow_pickle=True);\n",
    "dir_w2_dict3 = dir_w2_dict3[()];\n",
    "score_dict3 = np.load(\"score_dict3.npy\", allow_pickle=True);\n",
    "score_dict3 = score_dict3[()];"
   ]
  },
  {
   "cell_type": "code",
   "execution_count": 181,
   "metadata": {},
   "outputs": [
    {
     "data": {
      "image/png": "[encoded data removed]",
      "text/plain": [
       "<Figure size 1080x360 with 2 Axes>"
      ]
     },
     "metadata": {
      "needs_background": "light"
     },
     "output_type": "display_data"
    }
   ],
   "source": [
    "##plot the statistics of our simulations\n",
    "##we create an array to store the average score of each m\n",
    "avg_score3 = [];\n",
    "##we also want to record the percentage of the outputs that are\n",
    "##>95; >85 >75\n",
    "stat3_75 = []; stat3_85 = []; stat3_95 = [];\n",
    "for key in score_dict3:\n",
    "    avg_score3.append(score_dict3[key].mean());\n",
    "    stat3_75.append(np.count_nonzero(score_dict3[key] > .75));\n",
    "    stat3_85.append(np.count_nonzero(score_dict3[key] > .85));\n",
    "    stat3_95.append(np.count_nonzero(score_dict3[key] > .95));\n",
    "stat3_75 = np.array(stat3_75)/40;\n",
    "stat3_85 = np.array(stat3_85)/40;\n",
    "stat3_95 = np.array(stat3_95)/40;\n",
    "avg_score3 = np.array(avg_score3);\n",
    "f, ax = plt.subplots(1,2,figsize=(15,5));\n",
    "ax[0].scatter(range(1000, 5100, 500), avg_score3);\n",
    "ax[0].set_xlabel(\"Number of Random Vectors\");\n",
    "ax[0].set_ylabel(\"Cosine of the Angle\");\n",
    "ax[1].scatter(range(1000, 5100, 500), stat3_95, label='>0.95');\n",
    "ax[1].scatter(range(1000, 5100, 500), stat3_85, label='>0.85');\n",
    "ax[1].scatter(range(1000, 5100, 500), stat3_75, label='>0.75');\n",
    "ax[1].set_xlabel(\"Number of Random Vectors\");\n",
    "ax[1].set_ylabel(\"Percentage\");\n",
    "ax[1].legend()\n",
    "ax[0].set_title(\"Average Accuracy (in 40 simulations)\");\n",
    "ax[1].set_title(\"Performance Distribution Ratio\");\n",
    "plt.savefig(\"Huthinson_W2_performance3.png\", dpi=200)"
   ]
  },
  {
   "cell_type": "code",
   "execution_count": null,
   "metadata": {},
   "outputs": [],
   "source": []
  }
 ],
 "metadata": {
  "colab": {
   "collapsed_sections": [],
   "machine_shape": "hm",
   "name": "Benchmark_For_Wanzhou",
   "provenance": []
  },
  "kernelspec": {
   "display_name": "Python 3",
   "language": "python",
   "name": "python3"
  },
  "language_info": {
   "codemirror_mode": {
    "name": "ipython",
    "version": 3
   },
   "file_extension": ".py",
   "mimetype": "text/x-python",
   "name": "python",
   "nbconvert_exporter": "python",
   "pygments_lexer": "ipython3",
   "version": "3.7.4"
  }
 },
 "nbformat": 4,
 "nbformat_minor": 1
}
